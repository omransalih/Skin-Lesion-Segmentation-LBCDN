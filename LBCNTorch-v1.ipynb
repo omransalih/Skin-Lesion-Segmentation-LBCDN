{
 "cells": [
  {
   "cell_type": "code",
   "execution_count": 1,
   "metadata": {},
   "outputs": [],
   "source": [
    "## Imports\n",
    "import os\n",
    "import sys\n",
    "import random\n",
    "\n",
    "import numpy as np\n",
    "import cv2\n",
    "import matplotlib.pyplot as plt\n",
    "\n",
    "import tensorflow as tf\n",
    "from tensorflow import keras\n",
    "from scipy.stats import bernoulli \n",
    "\n",
    "## Seeding \n",
    "seed = 2019\n",
    "random.seed = seed\n",
    "np.random.seed = seed\n",
    "tf.seed = seed"
   ]
  },
  {
   "cell_type": "code",
   "execution_count": 2,
   "metadata": {},
   "outputs": [],
   "source": [
    "class DataGen(keras.utils.Sequence):\n",
    "    def __init__(self, ids, path, batch_size=8, image_size=256, mask_size=128):\n",
    "        self.ids = ids\n",
    "        self.path = path\n",
    "        self.batch_size = batch_size\n",
    "        self.image_size = image_size\n",
    "        self.mask_size = mask_size\n",
    "        self.on_epoch_end()\n",
    "        \n",
    "    def __load__(self, id_name):\n",
    "        ## Path\n",
    "        image_path = os.path.join(self.path, id_name, \"images\", id_name) + \".jpg\" #\".bmp\" \n",
    "        mask_path = os.path.join(self.path, id_name, \"masks/\")\n",
    "        all_masks = os.listdir(mask_path)\n",
    "        \n",
    "        ## Reading Image\n",
    "        image = cv2.imread(image_path, 0)\n",
    "        image = cv2.resize(image, (self.image_size, self.image_size))\n",
    "        #image_LTP = np.ones([128,128,3])\n",
    "        #for i in range(image.shape[2]):\n",
    "         #   image_LTP[:,:,i] = LTP(image[:,:,i])\n",
    "        #image = image_LTP\n",
    "        \n",
    "        mask = np.zeros((self.mask_size, self.mask_size, 1))\n",
    "        \n",
    "        ## Reading Masks\n",
    "        for name in all_masks:\n",
    "            _mask_path = mask_path + name\n",
    "            _mask_image = cv2.imread(_mask_path, -1)\n",
    "            _mask_image = cv2.resize(_mask_image, (self.mask_size, self.mask_size)) #128x128\n",
    "            _mask_image = np.expand_dims(_mask_image, axis=-1)\n",
    "            mask = np.maximum(mask, _mask_image)\n",
    "            \n",
    "        ## Normalizaing \n",
    "        image = image/255.0\n",
    "        mask = mask/255.0\n",
    "        \n",
    "        return image, mask\n",
    "    \n",
    "    def __getitem__(self, index):\n",
    "        if(index+1)*self.batch_size > len(self.ids):\n",
    "            self.batch_size = len(self.ids) - index*self.batch_size\n",
    "        \n",
    "        files_batch = self.ids[index*self.batch_size : (index+1)*self.batch_size]\n",
    "        \n",
    "        image = []\n",
    "        mask  = []\n",
    "        \n",
    "        for id_name in files_batch:\n",
    "            _img, _mask = self.__load__(id_name)\n",
    "            image.append(_img)\n",
    "            mask.append(_mask)\n",
    "            \n",
    "        image = np.array(image)\n",
    "        mask  = np.array(mask)\n",
    "        \n",
    "        return image, mask\n",
    "    \n",
    "    def on_epoch_end(self):\n",
    "        pass\n",
    "    \n",
    "    def __len__(self):\n",
    "        return int(np.ceil(len(self.ids)/float(self.batch_size)))"
   ]
  },
  {
   "cell_type": "code",
   "execution_count": 3,
   "metadata": {},
   "outputs": [
    {
     "data": {
      "text/plain": [
       "['ISIC_0000001',\n",
       " 'ISIC_0000003',\n",
       " 'ISIC_0000004',\n",
       " 'ISIC_0000006',\n",
       " 'ISIC_0000007',\n",
       " 'ISIC_0000008',\n",
       " 'ISIC_0000009',\n",
       " 'ISIC_0000011',\n",
       " 'ISIC_0000012',\n",
       " 'ISIC_0000013',\n",
       " 'ISIC_0000014',\n",
       " 'ISIC_0000015',\n",
       " 'ISIC_0000016']"
      ]
     },
     "execution_count": 3,
     "metadata": {},
     "output_type": "execute_result"
    }
   ],
   "source": [
    "image_size = 128\n",
    "train_path = \"dataset/ISICDATA/\" #\"dataset/PH2_Dataset_images/\" #\n",
    "epochs = 100\n",
    "batch_size = 8\n",
    "\n",
    "## Training Ids\n",
    "train_ids = next(os.walk(train_path))[1]\n",
    "\n",
    "## Validation Data Size\n",
    "val_data_size = 13\n",
    "\n",
    "valid_ids = train_ids[:val_data_size]\n",
    "train_ids = train_ids[val_data_size:]\n",
    "valid_ids"
   ]
  },
  {
   "cell_type": "code",
   "execution_count": 4,
   "metadata": {},
   "outputs": [
    {
     "name": "stdout",
     "output_type": "stream",
     "text": [
      "(8, 256, 256) (8, 128, 128, 1)\n"
     ]
    },
    {
     "data": {
      "text/plain": [
       "323"
      ]
     },
     "execution_count": 4,
     "metadata": {},
     "output_type": "execute_result"
    }
   ],
   "source": [
    "gen = DataGen(train_ids, train_path, batch_size=batch_size, image_size=256, mask_size=128)\n",
    "x, y = gen.__getitem__(0)\n",
    "print(x.shape, y.shape)\n",
    "len(gen)"
   ]
  },
  {
   "cell_type": "code",
   "execution_count": 5,
   "metadata": {},
   "outputs": [],
   "source": [
    "gentest = DataGen(valid_ids, train_path, batch_size=batch_size, image_size=256, mask_size=128)\n"
   ]
  },
  {
   "cell_type": "code",
   "execution_count": 6,
   "metadata": {},
   "outputs": [
    {
     "data": {
      "text/plain": [
       "<matplotlib.image.AxesImage at 0x1cc4b5a6c50>"
      ]
     },
     "execution_count": 6,
     "metadata": {},
     "output_type": "execute_result"
    },
    {
     "data": {
      "image/png": "[encoded data removed]",
      "text/plain": [
       "<Figure size 432x288 with 2 Axes>"
      ]
     },
     "metadata": {
      "needs_background": "light"
     },
     "output_type": "display_data"
    }
   ],
   "source": [
    "r = random.randint(0, len(x)-1)\n",
    "\n",
    "fig = plt.figure()\n",
    "fig.subplots_adjust(hspace=0.4, wspace=0.4)\n",
    "ax = fig.add_subplot(1, 2, 1)\n",
    "ax.imshow(x[r])\n",
    "ax = fig.add_subplot(1, 2, 2)\n",
    "ax.imshow(np.reshape(y[r], (image_size, image_size)), cmap=\"gray\")"
   ]
  },
  {
   "cell_type": "code",
   "execution_count": 7,
   "metadata": {},
   "outputs": [
    {
     "data": {
      "text/plain": [
       "323"
      ]
     },
     "execution_count": 7,
     "metadata": {},
     "output_type": "execute_result"
    }
   ],
   "source": [
    "len(gen)"
   ]
  },
  {
   "cell_type": "code",
   "execution_count": 8,
   "metadata": {},
   "outputs": [],
   "source": [
    "import torch\n",
    "import torch.nn as nn\n",
    "import torch.nn.functional as F\n",
    "\n",
    "\n",
    "class ConvLBC(nn.Conv2d):\n",
    "    def __init__(self, in_channels, out_channels, kernel_size=3, sparsity=0.5, padding=0):\n",
    "        '''\n",
    "        Description:\n",
    "            -- Initialize anchor weights.\n",
    "            -- Generate out_channels anchor weights with sparsity\n",
    "        Parameters:\n",
    "            -- sparsity: the sparsity of anchor weights\n",
    "        '''\n",
    "        super().__init__(in_channels, out_channels, kernel_size, padding=padding, bias=False)\n",
    "        anchor_weights = next(self.parameters())\n",
    "        matrix_proba = torch.FloatTensor(anchor_weights.data.shape).fill_(0.5)\n",
    "        binary_weights = torch.bernoulli(matrix_proba) * 2 - 1\n",
    "        mask_inactive = torch.rand(matrix_proba.shape) > sparsity\n",
    "        binary_weights.masked_fill_(mask_inactive, 0)\n",
    "        anchor_weights.data = binary_weights\n",
    "        anchor_weights.requires_grad = False\n",
    "\n",
    "\n",
    "class LayerLBC(nn.Module):\n",
    "    def __init__(self, in_channels, out_channels, num_weights=8, sparsity=0.5, kernel_size=3, padding=0):\n",
    "        '''\n",
    "        Description:\n",
    "            -- Initialize a LBP Layer.\n",
    "        Parameters:\n",
    "            -- num_weights: the number of anchor_weights of each output channel\n",
    "            -- sparsity: the sparsity of anchor weight\n",
    "        '''\n",
    "        super().__init__()\n",
    "        # Generate out_channels*anchor_weights anchor weights \n",
    "        self.conv_lbp = ConvLBC(in_channels, out_channels*num_weights, kernel_size=kernel_size, sparsity=sparsity, padding=padding)\n",
    "        # 1x1 convolution layer\n",
    "        self.conv_1x1 = nn.Conv2d(num_weights, 1, kernel_size=1)\n",
    "        self.num_weights = num_weights\n",
    "        self.output_channel = out_channels\n",
    "\n",
    "    def forward(self, x):\n",
    "        x = F.relu(self.conv_lbp(x))\n",
    "        x = x.view(x.size(0)*self.output_channel, self.num_weights, x.size(2), x.size(3))\n",
    "        x = self.conv_1x1(x)\n",
    "        x = x.view(x.size(0)//self.output_channel, self.output_channel, x.size(2), x.size(3))\n",
    "        return x\n",
    "    \n",
    "class DoubleConv(nn.Module):\n",
    "    \"\"\"(convolution => [BN] => ReLU) * 2\"\"\"\n",
    "\n",
    "    def __init__(self, in_channels, out_channels):\n",
    "        super().__init__()\n",
    "        self.double_conv = nn.Sequential(\n",
    "            nn.Conv2d(in_channels, out_channels, kernel_size=3, padding=1),\n",
    "            nn.BatchNorm2d(out_channels),\n",
    "            nn.ReLU(inplace=True),\n",
    "            nn.Conv2d(out_channels, out_channels, kernel_size=3, padding=1),\n",
    "            nn.BatchNorm2d(out_channels),\n",
    "            nn.ReLU(inplace=True)\n",
    "        )\n",
    "\n",
    "    def forward(self, x):\n",
    "        return self.double_conv(x)\n",
    "    \n",
    "class Up(nn.Module):\n",
    "    \"\"\"Upscaling then double conv\"\"\"\n",
    "\n",
    "    def __init__(self, in_channels, out_channels, bilinear=True):\n",
    "        super().__init__()\n",
    "\n",
    "        # if bilinear, use the normal convolutions to reduce the number of channels\n",
    "        if bilinear:\n",
    "            self.up = nn.Upsample(scale_factor=2, mode='bilinear', align_corners=True)\n",
    "        else:\n",
    "            self.up = nn.ConvTranspose2d(in_channels // 2, in_channels // 2, kernel_size=2, stride=2)\n",
    "\n",
    "        self.conv = DoubleConv(in_channels, out_channels)\n",
    "\n",
    "    def forward(self, x1, x2):\n",
    "        x1 = self.up(x1)\n",
    "        # input is CHW\n",
    "        diffY = x2.size()[2] - x1.size()[2]\n",
    "        diffX = x2.size()[3] - x1.size()[3]\n",
    "\n",
    "        x1 = F.pad(x1, [diffX // 2, diffX - diffX // 2,\n",
    "                        diffY // 2, diffY - diffY // 2])\n",
    "        # if you have padding issues, see\n",
    "        # https://github.com/HaiyongJiang/U-Net-Pytorch-Unstructured-Buggy/commit/0e854509c2cea854e247a9c615f175f76fbb2e3a\n",
    "        # https://github.com/xiaopeng-liao/Pytorch-UNet/commit/8ebac70e633bac59fc22bb5195e513d5832fb3bd\n",
    "        x = torch.cat([x2, x1], dim=1)\n",
    "        return self.conv(x)\n",
    "    \n",
    "    \n",
    "class double_conv(nn.Module):\n",
    "    def __init__(self, in_ch, out_ch):\n",
    "        super(double_conv, self).__init__()\n",
    "        self.conv1 = nn.Conv2d(in_ch, out_ch, 3, padding=1)\n",
    "        #self.conv2 = nn.Conv2d(in_ch, out_ch, 3, padding=1)\n",
    "    \n",
    "    def forward(self, x):\n",
    "        x = F.relu(self.conv1(x))\n",
    "        #x = F.relu(self.conv2(x))\n",
    "        return x\n",
    "\n",
    "class up(nn.Module):\n",
    "    def __init__(self, in_ch, out_ch):\n",
    "        super(up, self).__init__()\n",
    "        self.convv = double_conv(in_ch, out_ch)\n",
    "        self.up_conv = nn.ConvTranspose2d(in_ch, out_ch, kernel_size=2, stride=2)\n",
    "        #self.conv = double_conv(in_ch, out_ch)\n",
    "        self.conv = DoubleConv(in_ch, out_ch)\n",
    "    \n",
    "    def forward(self, x1, x2):\n",
    "        #x1 = self.convv(x1)\n",
    "        x1 = self.up_conv(x1)\n",
    "        x = torch.cat([x2, x1], dim=1)\n",
    "        x = self.conv(x)\n",
    "        return x\n",
    "\n",
    "\n",
    "class OutConv(nn.Module):\n",
    "    def __init__(self, in_channels, out_channels):\n",
    "        super(OutConv, self).__init__()\n",
    "        self.conv = nn.Conv2d(in_channels, out_channels, kernel_size=1)\n",
    "\n",
    "    def forward(self, x):\n",
    "        return self.conv(x)\n",
    "    \n",
    "class last_conv(nn.Module):\n",
    "    def __init__(self, in_ch, out_ch):\n",
    "        super(last_conv, self).__init__()\n",
    "        self.conv1 = nn.Conv2d(in_ch, out_ch, 1)\n",
    "    \n",
    "    def forward(self, x):\n",
    "        x = self.conv1(x)\n",
    "        return x\n",
    "\n",
    "class SimpleNetLBC(nn.Module):\n",
    "    '''\n",
    "    Description:\n",
    "        -- A simple model based on LBCNN\n",
    "    '''\n",
    "    def __init__(self):\n",
    "        super().__init__()\n",
    "        self.conv1 = nn.Sequential(\n",
    "            LayerLBC(in_channels=1, out_channels=16, num_weights=8, sparsity= 0.9, kernel_size=3, padding=1),\n",
    "            nn.MaxPool2d(kernel_size=2, stride=2),\n",
    "        )\n",
    "        self.conv2 = nn.Sequential(\n",
    "            LayerLBC(in_channels=16, out_channels=32, num_weights=8, sparsity= 0.9, kernel_size=3, padding=1),\n",
    "            nn.MaxPool2d(kernel_size=2, stride=2),\n",
    "        )\n",
    "        \n",
    "        self.conv3 = nn.Sequential(\n",
    "            LayerLBC(in_channels=32, out_channels=64, num_weights=8, sparsity= 0.9, kernel_size=3, padding=1),\n",
    "            nn.MaxPool2d(kernel_size=2, stride=2),\n",
    "        )\n",
    "        self.conv4 = nn.Sequential(\n",
    "            LayerLBC(in_channels=64, out_channels=128, num_weights=8, sparsity= 0.9, kernel_size=3, padding=1),\n",
    "            nn.MaxPool2d(kernel_size=2, stride=2),\n",
    "        )\n",
    "        self.conv5 = nn.Sequential(\n",
    "            LayerLBC(in_channels=128, out_channels=256, num_weights=8, sparsity= 0.9, kernel_size=3, padding=1),\n",
    "            nn.MaxPool2d(kernel_size=2, stride=2),\n",
    "        )\n",
    "        \n",
    "        self.up1 = up(256, 128) # 8 ----> 16\n",
    "        self.up2 = up(128, 64)  # 16 ---> 32\n",
    "        self.up3 = up(64, 32)   # 32 ---> 64\n",
    "        self.up4 = up(32, 16)   # 64 ---> 128\n",
    "        #self.otc = double_conv(16,1)\n",
    "        #self.up5 = up(16, 1)    # 128 ---> \n",
    "        #self.outc = OutConv(8, 1)\n",
    "        self.out = last_conv(16,1)\n",
    "\n",
    "    def forward(self, x):\n",
    "        #x0 = self.conv5(x)\n",
    "        x1 = self.conv1(x)\n",
    "        x2 = self.conv2(x1)\n",
    "        x3 = self.conv3(x2)\n",
    "        x4 = self.conv4(x3)\n",
    "        x5 = self.conv5(x4)\n",
    "        x = self.up1(x5, x4)\n",
    "        x = self.up2(x, x3)\n",
    "        x = self.up3(x, x2)\n",
    "        x = self.up4(x, x1)\n",
    "        #x = self.up5(x, x1)\n",
    "        #x = self.up1(x2, x1)\n",
    "        logits = self.out(x) #self.outc(x)\n",
    "        return logits\n",
    "    #def forward(self, x):\n",
    "     #   out = self.conv1(x)\n",
    "      #  out = self.conv2(out)\n",
    "       # out = out.view(x.shape[0], -1)\n",
    "        #out = self.fc_layers(out)\n",
    "        #return out\n"
   ]
  },
  {
   "cell_type": "code",
   "execution_count": 9,
   "metadata": {},
   "outputs": [
    {
     "name": "stderr",
     "output_type": "stream",
     "text": [
      "Using TensorFlow backend.\n"
     ]
    }
   ],
   "source": [
    "from keras import backend as K\n",
    "def iou_coef(y_true, y_pred, smooth=1):\n",
    "    \n",
    "    y_true = y_true.view([y_true.shape[0], 128, 128,1])\n",
    "    y_pred = y_pred.view([y_pred.shape[0], 128, 128, 1])\n",
    "    y_true = y_true.cpu().detach().numpy()\n",
    "    y_pred = y_pred.cpu().detach().numpy()\n",
    "    \n",
    "    intersection = K.sum(K.abs(y_true * y_pred), axis=[1,2,3])\n",
    "    union = K.sum(y_true,[1,2,3]) + K.sum(y_pred,[1,2,3])-intersection\n",
    "    iou = K.mean((intersection + smooth) / (union + smooth), axis=0)\n",
    "    \n",
    "    with tf.Session() as sess:\n",
    "        iou = sess.run(iou)\n",
    "        \n",
    "    return iou"
   ]
  },
  {
   "cell_type": "code",
   "execution_count": 10,
   "metadata": {},
   "outputs": [],
   "source": [
    "def dice_coef(y_true, y_pred, smooth=1):\n",
    "    \n",
    "    y_true = y_true.view([y_true.shape[0], 128, 128,1])\n",
    "    y_pred = y_pred.view([y_pred.shape[0], 128, 128, 1])\n",
    "    y_true = y_true.cpu().detach().numpy()\n",
    "    y_pred = y_pred.cpu().detach().numpy()\n",
    "    \n",
    "    intersection = K.sum(y_true * y_pred, axis=[1,2,3])\n",
    "    union = K.sum(y_true, axis=[1,2,3]) + K.sum(y_pred, axis=[1,2,3])\n",
    "    dice = K.mean((2. * intersection + smooth)/(union + smooth), axis=0)\n",
    "    \n",
    "    with tf.Session() as sess:\n",
    "        dice = sess.run(dice)\n",
    "    \n",
    "    return dice"
   ]
  },
  {
   "cell_type": "code",
   "execution_count": null,
   "metadata": {},
   "outputs": [
    {
     "name": "stdout",
     "output_type": "stream",
     "text": [
      "Epoch 1/15, Avg_Jaccard: 0.447, Avg_Dice: 0.606\n",
      "Epoch 1/15, Training Loss: 2.481, Training Accuracy: 0.930\n",
      "Epoch 1/15, Testing Loss: 0.357, Testing Accuracy: 0.942\n",
      "Epoch 2/15, Avg_Jaccard: 0.764, Avg_Dice: 0.864\n",
      "Epoch 2/15, Training Loss: 0.307, Training Accuracy: 0.984\n",
      "Epoch 2/15, Testing Loss: 0.233, Testing Accuracy: 0.917\n",
      "Epoch 3/15, Avg_Jaccard: 0.884, Avg_Dice: 0.938\n",
      "Epoch 3/15, Training Loss: 0.135, Training Accuracy: 0.992\n",
      "Epoch 3/15, Testing Loss: 0.091, Testing Accuracy: 0.971\n",
      "Epoch 4/15, Avg_Jaccard: 0.922, Avg_Dice: 0.959\n",
      "Epoch 4/15, Training Loss: 0.090, Training Accuracy: 0.993\n",
      "Epoch 4/15, Testing Loss: 0.063, Testing Accuracy: 0.980\n"
     ]
    }
   ],
   "source": [
    "from torch.autograd import Variable\n",
    "import matplotlib.pyplot as plt\n",
    "device = torch.device('cuda:0' if torch.cuda.is_available() else 'cpu')\n",
    "model =  SimpleNetLBC()\n",
    "criterion = torch.nn.BCELoss() #nn.BCEWithLogitsLoss()  #torch.nn.BCELoss()#(size_average=True)   \n",
    "optimizer = torch.optim.SGD(model.parameters(), lr=0.01) #torch.optim.Adagrad(model.parameters(), lr=0.001) \n",
    "num_epochs = 15\n",
    "\n",
    "accuracy_epoch = []\n",
    "loss_epoch = []\n",
    "jaccard_epoch = []\n",
    "dice_epoch = []\n",
    "acc_output =[]\n",
    "loss_epoch_test = []\n",
    "accuracy_epoch_test = []\n",
    "for epoch in range(num_epochs):  # loop over the dataset multiple times\n",
    "        running_loss = 0\n",
    "        total_train = 0\n",
    "        correct_train = 0\n",
    "        loss_values = []     \n",
    "        avg_accuracy =[]\n",
    "        avg_jaccard = []\n",
    "        avg_dice = []\n",
    "        running_loss = 0.0\n",
    "        \n",
    "        testing_loss = 0.0\n",
    "        avg_accuracy_test = []\n",
    "        loss_values_test = []\n",
    "        #Epoch_loss = 0.0\n",
    "        #Epoch_accuracy = 0.0\n",
    "        for i, data in enumerate(gen, 0):\n",
    "            \n",
    "            # get the inputs\n",
    "            t_image, mask = gen.__getitem__(0)\n",
    "            t_image, mask = torch.Tensor(t_image), torch.Tensor(mask)\n",
    "            t_image = t_image.view([t_image.shape[0], 1 , t_image.shape[1], t_image.shape[2]])\n",
    "            mask = mask.view([mask.shape[0], 1 , mask.shape[1], mask.shape[2]])\n",
    "            t_image, mask = Variable(t_image.float()), Variable(mask.float()) #Variable(t_image.to(device)), Variable(mask.to(device))\n",
    "        \n",
    "\n",
    "            # zeroes the gradient buffers of all parameters\n",
    "            optimizer.zero_grad()\n",
    "            # forward + backward + optimize\n",
    "            output = model(t_image) # forward\n",
    "            outputs = torch.sigmoid(output)\n",
    "            loss = criterion(outputs, mask) # calculate the loss\n",
    "            loss.backward() # back propagation\n",
    "            optimizer.step() # update gradients\n",
    "            running_loss += loss.item()\n",
    "            ##mask = torch.tensor(mask, dtype=torch.long, device=device)\n",
    "            \n",
    "            #running_loss += loss.item()\n",
    "            \n",
    "            acc_output = (outputs>0.5).float()\n",
    "            running_loss =+ loss.item() * t_image.size(0)\n",
    "            correct = (acc_output == mask).float().sum()\n",
    "            x = outputs.shape[0]*128*128\n",
    "            accuracy = correct/x\n",
    "            loss_values.append(running_loss)\n",
    "\n",
    "            \n",
    "            #Accuracy\n",
    "           \n",
    "            avg_accuracy.append(accuracy)\n",
    "            #print(\"Epoch {}/{}, Loss: {:.3f}, Accuracy: {:.3f}\".format(epoch+1,num_epochs, loss.item(), accuracy ))\n",
    "            \n",
    "            # Jaccard Accuracy \n",
    "            Jaccard = iou_coef(outputs, mask, smooth=1)\n",
    "            avg_jaccard.append(Jaccard)\n",
    "                        \n",
    "            # Dice Accuracy \n",
    "            Dice = dice_coef(outputs, mask, smooth=1)\n",
    "            avg_dice.append(Dice)\n",
    "            \n",
    "            model.eval()\n",
    "            with torch.no_grad():\n",
    "                for inputs, labels in gentest:\n",
    "                    inputs, labels = gentest.__getitem__(0)\n",
    "                    inputs, labels = torch.Tensor(inputs), torch.Tensor(labels)\n",
    "                    inputs = inputs.view([inputs.shape[0], 1 , inputs.shape[1], inputs.shape[2]])\n",
    "                    labels = labels.view([labels.shape[0], 1 , labels.shape[1], labels.shape[2]])\n",
    "                    inputs, labels = inputs.to(device), labels.to(device)\n",
    "                    logps = model.forward(inputs)\n",
    "                    logps = torch.sigmoid(logps)\n",
    "                    batch_loss = criterion(logps, labels)\n",
    "                    testing_loss += batch_loss.item()\n",
    "                    \n",
    "                    running_losse =+ batch_loss.item() * inputs.size(0)\n",
    "                    loss_values_test.append(running_losse)\n",
    "\n",
    "            \n",
    "            #Accuracy\n",
    "                    acc_test = (logps>0.5).float()\n",
    "                    correct_test = (acc_test == labels).float().sum()\n",
    "                    xx = inputs.shape[0]*128*128\n",
    "                    accuracy_test = correct_test/xx\n",
    "                    avg_accuracy_test.append(accuracy_test)\n",
    "            model.train()\n",
    "                    \n",
    "            \n",
    "        # Loss & Accuraccy in each epoch \n",
    "        Epoch_loss_test = sum(loss_values_test) / len(loss_values_test)\n",
    "        Epoch_accuracy_test = sum(avg_accuracy_test) / len(avg_accuracy_test)\n",
    "        loss_epoch_test.append(Epoch_loss_test)\n",
    "        accuracy_epoch_test.append(Epoch_accuracy_test)\n",
    "             \n",
    "        \n",
    "            #print(\"Epoch {}/{}, Jaccard Coef: {:.3f}, Dice: {:.3f}\".format(epoch+1, num_epochs, Jaccard, Dice))   \n",
    "        \n",
    "        ##Dice & Jaccard in each epoah \n",
    "        Epoch_jaccard = sum(avg_jaccard)/len(avg_jaccard)\n",
    "        Epoch_dice = sum(avg_dice) / len(avg_dice)\n",
    "        jaccard_epoch.append(Epoch_jaccard)\n",
    "        dice_epoch.append(Epoch_dice)\n",
    "        \n",
    "        print(\"Epoch {}/{}, Avg_Jaccard: {:.3f}, Avg_Dice: {:.3f}\".format(epoch+1, num_epochs, Epoch_jaccard, Epoch_dice))\n",
    "        \n",
    "        ## Loss & Accuraccy in each epoch \n",
    "        Epoch_loss = sum(loss_values) / len(loss_values)\n",
    "        Epoch_accuracy = sum(avg_accuracy) / len(avg_accuracy)\n",
    "        loss_epoch.append(Epoch_loss)\n",
    "        accuracy_epoch.append(Epoch_accuracy)\n",
    "        \n",
    "        \n",
    "        print(\"Epoch {}/{}, Training Loss: {:.3f}, Training Accuracy: {:.3f}\".format(epoch+1, num_epochs, Epoch_loss, Epoch_accuracy))\n",
    "\n",
    "        print(\"Epoch {}/{}, Testing Loss: {:.3f}, Testing Accuracy: {:.3f}\".format(epoch+1, num_epochs, Epoch_loss_test, Epoch_accuracy_test))\n",
    "print('Finished Training Trainset')\n",
    "        #plt.plot(loss_values)\n",
    "        #plt.plot(avg_accuracy)\n",
    "#plt.plot(accuracy_epoch)\n",
    "#plt.plot(loss_epoch)\n",
    "            \n",
    "            "
   ]
  },
  {
   "cell_type": "code",
   "execution_count": 35,
   "metadata": {},
   "outputs": [
    {
     "data": {
      "image/png": "[encoded data removed]",
      "text/plain": [
       "<Figure size 432x288 with 2 Axes>"
      ]
     },
     "metadata": {
      "needs_background": "light"
     },
     "output_type": "display_data"
    }
   ],
   "source": [
    "from matplotlib.ticker import NullFormatter  # useful for `logit` scale\n",
    "import matplotlib.pyplot as plt\n",
    "plt.figure()\n",
    "\n",
    "# loss\n",
    "plt.subplot(121)\n",
    "plt.plot(loss_epoch)\n",
    "#plt.plot(loss_epoch_test)\n",
    "plt.ylabel('Loss')\n",
    "plt.xlabel('epoch step')\n",
    "plt.title('Training Loss')\n",
    "plt.grid(True)\n",
    "\n",
    "\n",
    "# Accuracy \n",
    "plt.subplot(122)\n",
    "plt.plot(accuracy_epoch, 'r--')\n",
    "plt.ylabel('Accuracy')\n",
    "plt.xlabel('epoch step')\n",
    "plt.title('Training Accuracy')\n",
    "plt.grid(True)\n",
    "\n",
    "# Format the minor tick labels of the y-axis into empty strings with\n",
    "# `NullFormatter`, to avoid cumbering the axis with too many labels.\n",
    "plt.gca().yaxis.set_minor_formatter(NullFormatter())\n",
    "# Adjust the subplot layout, because the logit one may take more space\n",
    "# than usual, due to y-tick labels like \"1 - 10^{-3}\"\n",
    "plt.subplots_adjust(top=0.92, bottom=0.08, left=0.00001, right=2, hspace=0.55, wspace=0.35)\n",
    "\n",
    "plt.show()"
   ]
  },
  {
   "cell_type": "code",
   "execution_count": 17,
   "metadata": {},
   "outputs": [
    {
     "data": {
      "image/png": "[encoded data removed]",
      "text/plain": [
       "<Figure size 432x288 with 2 Axes>"
      ]
     },
     "metadata": {
      "needs_background": "light"
     },
     "output_type": "display_data"
    }
   ],
   "source": [
    "from matplotlib.ticker import NullFormatter  # useful for `logit` scale\n",
    "\n",
    "plt.figure()\n",
    "\n",
    "# loss\n",
    "plt.subplot(121)\n",
    "plt.plot(loss_epoch_test)\n",
    "#plt.plot(loss_epoch_test)\n",
    "plt.ylabel('Loss')\n",
    "plt.xlabel('epoch step')\n",
    "plt.title('Testing Loss')\n",
    "plt.grid(True)\n",
    "\n",
    "\n",
    "# Accuracy \n",
    "plt.subplot(122)\n",
    "plt.plot(accuracy_epoch_test, 'r--')\n",
    "plt.ylabel('Accuracy')\n",
    "plt.xlabel('epoch step')\n",
    "plt.title('Testing Accuracy')\n",
    "plt.grid(True)\n",
    "\n",
    "# Format the minor tick labels of the y-axis into empty strings with\n",
    "# `NullFormatter`, to avoid cumbering the axis with too many labels.\n",
    "plt.gca().yaxis.set_minor_formatter(NullFormatter())\n",
    "# Adjust the subplot layout, because the logit one may take more space\n",
    "# than usual, due to y-tick labels like \"1 - 10^{-3}\"\n",
    "plt.subplots_adjust(top=0.92, bottom=0.08, left=0.00001, right=2, hspace=0.55, wspace=0.35)\n",
    "\n",
    "plt.show()"
   ]
  },
  {
   "cell_type": "code",
   "execution_count": 21,
   "metadata": {},
   "outputs": [
    {
     "data": {
      "image/png": "[encoded data removed]",
      "text/plain": [
       "<Figure size 432x288 with 1 Axes>"
      ]
     },
     "metadata": {
      "needs_background": "light"
     },
     "output_type": "display_data"
    },
    {
     "data": {
      "image/png": "[encoded data removed]",
      "text/plain": [
       "<Figure size 432x288 with 1 Axes>"
      ]
     },
     "metadata": {
      "needs_background": "light"
     },
     "output_type": "display_data"
    }
   ],
   "source": [
    "a = logps[0]\n",
    "b = a.view((128,128))\n",
    "b.shape\n",
    "b = (Variable(b).data).cpu().numpy()\n",
    "b.shape\n",
    "plt.imshow(b)\n",
    "plt.show()\n",
    "\n",
    "aa = labels[0]\n",
    "b = aa.view((128,128))\n",
    "b.shape\n",
    "b = (Variable(b).data).cpu().numpy()\n",
    "b.shape\n",
    "plt.imshow(b)\n",
    "plt.show()"
   ]
  },
  {
   "cell_type": "code",
   "execution_count": 22,
   "metadata": {},
   "outputs": [
    {
     "data": {
      "image/png": "[encoded data removed]",
      "text/plain": [
       "<Figure size 432x288 with 1 Axes>"
      ]
     },
     "metadata": {
      "needs_background": "light"
     },
     "output_type": "display_data"
    },
    {
     "data": {
      "image/png": "[encoded data removed]",
      "text/plain": [
       "<Figure size 432x288 with 1 Axes>"
      ]
     },
     "metadata": {
      "needs_background": "light"
     },
     "output_type": "display_data"
    }
   ],
   "source": [
    "a = outputs[2]\n",
    "b = a.view((128,128))\n",
    "b.shape\n",
    "b = (Variable(b).data).cpu().numpy()\n",
    "b.shape\n",
    "plt.imshow(b)\n",
    "plt.show()\n",
    "\n",
    "a = mask[2]\n",
    "b = a.view((128,128))\n",
    "b.shape\n",
    "b = (Variable(b).data).cpu().numpy()\n",
    "b.shape\n",
    "plt.imshow(b)\n",
    "plt.show()"
   ]
  },
  {
   "cell_type": "code",
   "execution_count": null,
   "metadata": {},
   "outputs": [],
   "source": []
  },
  {
   "cell_type": "code",
   "execution_count": null,
   "metadata": {},
   "outputs": [],
   "source": []
  },
  {
   "cell_type": "code",
   "execution_count": 522,
   "metadata": {},
   "outputs": [],
   "source": []
  },
  {
   "cell_type": "code",
   "execution_count": null,
   "metadata": {},
   "outputs": [],
   "source": []
  },
  {
   "cell_type": "code",
   "execution_count": null,
   "metadata": {},
   "outputs": [],
   "source": []
  },
  {
   "cell_type": "code",
   "execution_count": null,
   "metadata": {},
   "outputs": [],
   "source": []
  },
  {
   "cell_type": "code",
   "execution_count": null,
   "metadata": {},
   "outputs": [],
   "source": []
  },
  {
   "cell_type": "code",
   "execution_count": null,
   "metadata": {},
   "outputs": [],
   "source": []
  },
  {
   "cell_type": "code",
   "execution_count": null,
   "metadata": {},
   "outputs": [],
   "source": []
  },
  {
   "cell_type": "code",
   "execution_count": null,
   "metadata": {},
   "outputs": [],
   "source": []
  },
  {
   "cell_type": "code",
   "execution_count": null,
   "metadata": {},
   "outputs": [],
   "source": []
  },
  {
   "cell_type": "code",
   "execution_count": null,
   "metadata": {},
   "outputs": [],
   "source": []
  },
  {
   "cell_type": "code",
   "execution_count": null,
   "metadata": {},
   "outputs": [],
   "source": []
  },
  {
   "cell_type": "code",
   "execution_count": null,
   "metadata": {},
   "outputs": [],
   "source": []
  },
  {
   "cell_type": "code",
   "execution_count": null,
   "metadata": {},
   "outputs": [],
   "source": []
  },
  {
   "cell_type": "code",
   "execution_count": null,
   "metadata": {},
   "outputs": [],
   "source": [
    "\n"
   ]
  },
  {
   "cell_type": "code",
   "execution_count": null,
   "metadata": {},
   "outputs": [],
   "source": []
  },
  {
   "cell_type": "code",
   "execution_count": null,
   "metadata": {},
   "outputs": [],
   "source": []
  },
  {
   "cell_type": "code",
   "execution_count": null,
   "metadata": {},
   "outputs": [],
   "source": []
  },
  {
   "cell_type": "code",
   "execution_count": null,
   "metadata": {},
   "outputs": [],
   "source": [
    "\n",
    "\n"
   ]
  },
  {
   "cell_type": "code",
   "execution_count": null,
   "metadata": {},
   "outputs": [],
   "source": []
  },
  {
   "cell_type": "code",
   "execution_count": null,
   "metadata": {},
   "outputs": [],
   "source": []
  },
  {
   "cell_type": "code",
   "execution_count": null,
   "metadata": {},
   "outputs": [],
   "source": []
  },
  {
   "cell_type": "code",
   "execution_count": null,
   "metadata": {},
   "outputs": [],
   "source": []
  },
  {
   "cell_type": "code",
   "execution_count": null,
   "metadata": {},
   "outputs": [],
   "source": []
  },
  {
   "cell_type": "code",
   "execution_count": null,
   "metadata": {},
   "outputs": [],
   "source": []
  },
  {
   "cell_type": "code",
   "execution_count": null,
   "metadata": {},
   "outputs": [],
   "source": []
  },
  {
   "cell_type": "code",
   "execution_count": null,
   "metadata": {},
   "outputs": [],
   "source": []
  },
  {
   "cell_type": "code",
   "execution_count": null,
   "metadata": {},
   "outputs": [],
   "source": []
  },
  {
   "cell_type": "code",
   "execution_count": null,
   "metadata": {},
   "outputs": [],
   "source": []
  },
  {
   "cell_type": "code",
   "execution_count": null,
   "metadata": {},
   "outputs": [],
   "source": []
  },
  {
   "cell_type": "code",
   "execution_count": null,
   "metadata": {},
   "outputs": [],
   "source": []
  },
  {
   "cell_type": "code",
   "execution_count": null,
   "metadata": {},
   "outputs": [],
   "source": []
  },
  {
   "cell_type": "code",
   "execution_count": null,
   "metadata": {},
   "outputs": [],
   "source": []
  },
  {
   "cell_type": "code",
   "execution_count": null,
   "metadata": {},
   "outputs": [],
   "source": []
  },
  {
   "cell_type": "code",
   "execution_count": null,
   "metadata": {},
   "outputs": [],
   "source": []
  },
  {
   "cell_type": "code",
   "execution_count": null,
   "metadata": {},
   "outputs": [],
   "source": []
  },
  {
   "cell_type": "code",
   "execution_count": null,
   "metadata": {},
   "outputs": [],
   "source": []
  },
  {
   "cell_type": "code",
   "execution_count": null,
   "metadata": {},
   "outputs": [],
   "source": []
  },
  {
   "cell_type": "code",
   "execution_count": null,
   "metadata": {},
   "outputs": [],
   "source": []
  },
  {
   "cell_type": "code",
   "execution_count": null,
   "metadata": {},
   "outputs": [],
   "source": []
  },
  {
   "cell_type": "code",
   "execution_count": null,
   "metadata": {},
   "outputs": [],
   "source": []
  },
  {
   "cell_type": "code",
   "execution_count": null,
   "metadata": {},
   "outputs": [],
   "source": []
  },
  {
   "cell_type": "code",
   "execution_count": null,
   "metadata": {},
   "outputs": [],
   "source": []
  },
  {
   "cell_type": "code",
   "execution_count": null,
   "metadata": {},
   "outputs": [],
   "source": []
  },
  {
   "cell_type": "code",
   "execution_count": null,
   "metadata": {},
   "outputs": [],
   "source": []
  },
  {
   "cell_type": "code",
   "execution_count": null,
   "metadata": {},
   "outputs": [],
   "source": []
  },
  {
   "cell_type": "code",
   "execution_count": null,
   "metadata": {},
   "outputs": [],
   "source": []
  },
  {
   "cell_type": "code",
   "execution_count": null,
   "metadata": {},
   "outputs": [],
   "source": []
  },
  {
   "cell_type": "code",
   "execution_count": null,
   "metadata": {},
   "outputs": [],
   "source": []
  },
  {
   "cell_type": "code",
   "execution_count": null,
   "metadata": {},
   "outputs": [],
   "source": []
  },
  {
   "cell_type": "code",
   "execution_count": null,
   "metadata": {},
   "outputs": [],
   "source": []
  },
  {
   "cell_type": "code",
   "execution_count": null,
   "metadata": {},
   "outputs": [],
   "source": []
  },
  {
   "cell_type": "code",
   "execution_count": null,
   "metadata": {},
   "outputs": [],
   "source": []
  },
  {
   "cell_type": "code",
   "execution_count": null,
   "metadata": {},
   "outputs": [],
   "source": []
  },
  {
   "cell_type": "code",
   "execution_count": null,
   "metadata": {},
   "outputs": [],
   "source": []
  },
  {
   "cell_type": "code",
   "execution_count": null,
   "metadata": {},
   "outputs": [],
   "source": []
  },
  {
   "cell_type": "code",
   "execution_count": null,
   "metadata": {},
   "outputs": [],
   "source": []
  },
  {
   "cell_type": "code",
   "execution_count": null,
   "metadata": {},
   "outputs": [],
   "source": []
  },
  {
   "cell_type": "code",
   "execution_count": null,
   "metadata": {},
   "outputs": [],
   "source": []
  },
  {
   "cell_type": "code",
   "execution_count": null,
   "metadata": {},
   "outputs": [],
   "source": []
  },
  {
   "cell_type": "code",
   "execution_count": null,
   "metadata": {},
   "outputs": [],
   "source": []
  },
  {
   "cell_type": "code",
   "execution_count": null,
   "metadata": {},
   "outputs": [],
   "source": []
  },
  {
   "cell_type": "code",
   "execution_count": null,
   "metadata": {},
   "outputs": [],
   "source": []
  },
  {
   "cell_type": "code",
   "execution_count": null,
   "metadata": {},
   "outputs": [],
   "source": []
  },
  {
   "cell_type": "code",
   "execution_count": null,
   "metadata": {},
   "outputs": [],
   "source": []
  },
  {
   "cell_type": "code",
   "execution_count": null,
   "metadata": {},
   "outputs": [],
   "source": []
  },
  {
   "cell_type": "code",
   "execution_count": null,
   "metadata": {},
   "outputs": [],
   "source": []
  },
  {
   "cell_type": "code",
   "execution_count": null,
   "metadata": {},
   "outputs": [],
   "source": []
  },
  {
   "cell_type": "code",
   "execution_count": null,
   "metadata": {},
   "outputs": [],
   "source": [
    "\n"
   ]
  },
  {
   "cell_type": "code",
   "execution_count": null,
   "metadata": {},
   "outputs": [],
   "source": []
  },
  {
   "cell_type": "code",
   "execution_count": null,
   "metadata": {},
   "outputs": [],
   "source": []
  },
  {
   "cell_type": "code",
   "execution_count": null,
   "metadata": {},
   "outputs": [],
   "source": []
  },
  {
   "cell_type": "code",
   "execution_count": null,
   "metadata": {},
   "outputs": [],
   "source": []
  },
  {
   "cell_type": "code",
   "execution_count": null,
   "metadata": {},
   "outputs": [],
   "source": []
  },
  {
   "cell_type": "code",
   "execution_count": null,
   "metadata": {},
   "outputs": [],
   "source": []
  },
  {
   "cell_type": "code",
   "execution_count": null,
   "metadata": {},
   "outputs": [],
   "source": []
  },
  {
   "cell_type": "code",
   "execution_count": null,
   "metadata": {},
   "outputs": [],
   "source": []
  },
  {
   "cell_type": "code",
   "execution_count": null,
   "metadata": {},
   "outputs": [],
   "source": []
  }
 ],
 "metadata": {
  "kernelspec": {
   "display_name": "Python 3",
   "language": "python",
   "name": "python3"
  },
  "language_info": {
   "codemirror_mode": {
    "name": "ipython",
    "version": 3
   },
   "file_extension": ".py",
   "mimetype": "text/x-python",
   "name": "python",
   "nbconvert_exporter": "python",
   "pygments_lexer": "ipython3",
   "version": "3.7.3"
  }
 },
 "nbformat": 4,
 "nbformat_minor": 2
}
